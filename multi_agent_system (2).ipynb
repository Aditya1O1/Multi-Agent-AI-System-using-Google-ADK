{
  "nbformat": 4,
  "nbformat_minor": 0,
  "metadata": {
    "colab": {
      "provenance": [],
      "gpuType": "T4"
    },
    "kernelspec": {
      "name": "python3",
      "display_name": "Python 3"
    },
    "language_info": {
      "name": "python"
    },
    "accelerator": "GPU"
  },
  "cells": [
    {
      "cell_type": "markdown",
      "source": [
        " PHASE 0: SETUP in Google Colab"
      ],
      "metadata": {
        "id": "UEz_GGY_0nEB"
      }
    },
    {
      "cell_type": "code",
      "execution_count": 1,
      "metadata": {
        "colab": {
          "base_uri": "https://localhost:8080/"
        },
        "id": "rFhgZGOet_9o",
        "outputId": "9f4eabb3-d50a-4ebd-b8da-4a606b447fac"
      },
      "outputs": [
        {
          "output_type": "stream",
          "name": "stdout",
          "text": [
            "Requirement already satisfied: requests in /usr/local/lib/python3.11/dist-packages (2.32.3)\n",
            "Collecting python-dotenv\n",
            "  Downloading python_dotenv-1.1.0-py3-none-any.whl.metadata (24 kB)\n",
            "Requirement already satisfied: charset-normalizer<4,>=2 in /usr/local/lib/python3.11/dist-packages (from requests) (3.4.2)\n",
            "Requirement already satisfied: idna<4,>=2.5 in /usr/local/lib/python3.11/dist-packages (from requests) (3.10)\n",
            "Requirement already satisfied: urllib3<3,>=1.21.1 in /usr/local/lib/python3.11/dist-packages (from requests) (2.4.0)\n",
            "Requirement already satisfied: certifi>=2017.4.17 in /usr/local/lib/python3.11/dist-packages (from requests) (2025.4.26)\n",
            "Downloading python_dotenv-1.1.0-py3-none-any.whl (20 kB)\n",
            "Installing collected packages: python-dotenv\n",
            "Successfully installed python-dotenv-1.1.0\n"
          ]
        }
      ],
      "source": [
        "!pip install requests python-dotenv\n"
      ]
    },
    {
      "cell_type": "code",
      "source": [
        "from google.colab import files\n",
        "\n",
        "# Prompt user to upload .env file\n",
        "uploaded = files.upload()\n"
      ],
      "metadata": {
        "colab": {
          "base_uri": "https://localhost:8080/",
          "height": 73
        },
        "id": "mTpuSV9Yu2Rl",
        "outputId": "41275c81-0bd0-4608-d40f-4e1fb7804e21"
      },
      "execution_count": 2,
      "outputs": [
        {
          "output_type": "display_data",
          "data": {
            "text/plain": [
              "<IPython.core.display.HTML object>"
            ],
            "text/html": [
              "\n",
              "     <input type=\"file\" id=\"files-43b43da8-483f-431a-a18f-aa5da041a141\" name=\"files[]\" multiple disabled\n",
              "        style=\"border:none\" />\n",
              "     <output id=\"result-43b43da8-483f-431a-a18f-aa5da041a141\">\n",
              "      Upload widget is only available when the cell has been executed in the\n",
              "      current browser session. Please rerun this cell to enable.\n",
              "      </output>\n",
              "      <script>// Copyright 2017 Google LLC\n",
              "//\n",
              "// Licensed under the Apache License, Version 2.0 (the \"License\");\n",
              "// you may not use this file except in compliance with the License.\n",
              "// You may obtain a copy of the License at\n",
              "//\n",
              "//      http://www.apache.org/licenses/LICENSE-2.0\n",
              "//\n",
              "// Unless required by applicable law or agreed to in writing, software\n",
              "// distributed under the License is distributed on an \"AS IS\" BASIS,\n",
              "// WITHOUT WARRANTIES OR CONDITIONS OF ANY KIND, either express or implied.\n",
              "// See the License for the specific language governing permissions and\n",
              "// limitations under the License.\n",
              "\n",
              "/**\n",
              " * @fileoverview Helpers for google.colab Python module.\n",
              " */\n",
              "(function(scope) {\n",
              "function span(text, styleAttributes = {}) {\n",
              "  const element = document.createElement('span');\n",
              "  element.textContent = text;\n",
              "  for (const key of Object.keys(styleAttributes)) {\n",
              "    element.style[key] = styleAttributes[key];\n",
              "  }\n",
              "  return element;\n",
              "}\n",
              "\n",
              "// Max number of bytes which will be uploaded at a time.\n",
              "const MAX_PAYLOAD_SIZE = 100 * 1024;\n",
              "\n",
              "function _uploadFiles(inputId, outputId) {\n",
              "  const steps = uploadFilesStep(inputId, outputId);\n",
              "  const outputElement = document.getElementById(outputId);\n",
              "  // Cache steps on the outputElement to make it available for the next call\n",
              "  // to uploadFilesContinue from Python.\n",
              "  outputElement.steps = steps;\n",
              "\n",
              "  return _uploadFilesContinue(outputId);\n",
              "}\n",
              "\n",
              "// This is roughly an async generator (not supported in the browser yet),\n",
              "// where there are multiple asynchronous steps and the Python side is going\n",
              "// to poll for completion of each step.\n",
              "// This uses a Promise to block the python side on completion of each step,\n",
              "// then passes the result of the previous step as the input to the next step.\n",
              "function _uploadFilesContinue(outputId) {\n",
              "  const outputElement = document.getElementById(outputId);\n",
              "  const steps = outputElement.steps;\n",
              "\n",
              "  const next = steps.next(outputElement.lastPromiseValue);\n",
              "  return Promise.resolve(next.value.promise).then((value) => {\n",
              "    // Cache the last promise value to make it available to the next\n",
              "    // step of the generator.\n",
              "    outputElement.lastPromiseValue = value;\n",
              "    return next.value.response;\n",
              "  });\n",
              "}\n",
              "\n",
              "/**\n",
              " * Generator function which is called between each async step of the upload\n",
              " * process.\n",
              " * @param {string} inputId Element ID of the input file picker element.\n",
              " * @param {string} outputId Element ID of the output display.\n",
              " * @return {!Iterable<!Object>} Iterable of next steps.\n",
              " */\n",
              "function* uploadFilesStep(inputId, outputId) {\n",
              "  const inputElement = document.getElementById(inputId);\n",
              "  inputElement.disabled = false;\n",
              "\n",
              "  const outputElement = document.getElementById(outputId);\n",
              "  outputElement.innerHTML = '';\n",
              "\n",
              "  const pickedPromise = new Promise((resolve) => {\n",
              "    inputElement.addEventListener('change', (e) => {\n",
              "      resolve(e.target.files);\n",
              "    });\n",
              "  });\n",
              "\n",
              "  const cancel = document.createElement('button');\n",
              "  inputElement.parentElement.appendChild(cancel);\n",
              "  cancel.textContent = 'Cancel upload';\n",
              "  const cancelPromise = new Promise((resolve) => {\n",
              "    cancel.onclick = () => {\n",
              "      resolve(null);\n",
              "    };\n",
              "  });\n",
              "\n",
              "  // Wait for the user to pick the files.\n",
              "  const files = yield {\n",
              "    promise: Promise.race([pickedPromise, cancelPromise]),\n",
              "    response: {\n",
              "      action: 'starting',\n",
              "    }\n",
              "  };\n",
              "\n",
              "  cancel.remove();\n",
              "\n",
              "  // Disable the input element since further picks are not allowed.\n",
              "  inputElement.disabled = true;\n",
              "\n",
              "  if (!files) {\n",
              "    return {\n",
              "      response: {\n",
              "        action: 'complete',\n",
              "      }\n",
              "    };\n",
              "  }\n",
              "\n",
              "  for (const file of files) {\n",
              "    const li = document.createElement('li');\n",
              "    li.append(span(file.name, {fontWeight: 'bold'}));\n",
              "    li.append(span(\n",
              "        `(${file.type || 'n/a'}) - ${file.size} bytes, ` +\n",
              "        `last modified: ${\n",
              "            file.lastModifiedDate ? file.lastModifiedDate.toLocaleDateString() :\n",
              "                                    'n/a'} - `));\n",
              "    const percent = span('0% done');\n",
              "    li.appendChild(percent);\n",
              "\n",
              "    outputElement.appendChild(li);\n",
              "\n",
              "    const fileDataPromise = new Promise((resolve) => {\n",
              "      const reader = new FileReader();\n",
              "      reader.onload = (e) => {\n",
              "        resolve(e.target.result);\n",
              "      };\n",
              "      reader.readAsArrayBuffer(file);\n",
              "    });\n",
              "    // Wait for the data to be ready.\n",
              "    let fileData = yield {\n",
              "      promise: fileDataPromise,\n",
              "      response: {\n",
              "        action: 'continue',\n",
              "      }\n",
              "    };\n",
              "\n",
              "    // Use a chunked sending to avoid message size limits. See b/62115660.\n",
              "    let position = 0;\n",
              "    do {\n",
              "      const length = Math.min(fileData.byteLength - position, MAX_PAYLOAD_SIZE);\n",
              "      const chunk = new Uint8Array(fileData, position, length);\n",
              "      position += length;\n",
              "\n",
              "      const base64 = btoa(String.fromCharCode.apply(null, chunk));\n",
              "      yield {\n",
              "        response: {\n",
              "          action: 'append',\n",
              "          file: file.name,\n",
              "          data: base64,\n",
              "        },\n",
              "      };\n",
              "\n",
              "      let percentDone = fileData.byteLength === 0 ?\n",
              "          100 :\n",
              "          Math.round((position / fileData.byteLength) * 100);\n",
              "      percent.textContent = `${percentDone}% done`;\n",
              "\n",
              "    } while (position < fileData.byteLength);\n",
              "  }\n",
              "\n",
              "  // All done.\n",
              "  yield {\n",
              "    response: {\n",
              "      action: 'complete',\n",
              "    }\n",
              "  };\n",
              "}\n",
              "\n",
              "scope.google = scope.google || {};\n",
              "scope.google.colab = scope.google.colab || {};\n",
              "scope.google.colab._files = {\n",
              "  _uploadFiles,\n",
              "  _uploadFilesContinue,\n",
              "};\n",
              "})(self);\n",
              "</script> "
            ]
          },
          "metadata": {}
        },
        {
          "output_type": "stream",
          "name": "stdout",
          "text": [
            "Saving .env.txt to .env.txt\n"
          ]
        }
      ]
    },
    {
      "cell_type": "code",
      "source": [
        "import os\n",
        "\n",
        "# Rename the uploaded file to '.env'\n",
        "if os.path.exists(\".env.txt\"):\n",
        "    os.rename(\".env.txt\", \".env\")\n",
        "    print(\"Renamed .env.txt to .env\")\n",
        "else:\n",
        "    print(\"File not found. Please upload again.\")\n"
      ],
      "metadata": {
        "colab": {
          "base_uri": "https://localhost:8080/"
        },
        "id": "WXrJzfNpyujk",
        "outputId": "e42a25a3-04c3-4e13-fad5-d776ffc02a85"
      },
      "execution_count": 14,
      "outputs": [
        {
          "output_type": "stream",
          "name": "stdout",
          "text": [
            "File not found. Please upload again.\n"
          ]
        }
      ]
    },
    {
      "cell_type": "code",
      "source": [
        "from dotenv import load_dotenv\n",
        "\n",
        "# Load environment variables from .env\n",
        "load_dotenv('.env')\n",
        "\n",
        "# Fetch and verify key\n",
        "weather_key = os.getenv(\"OPENWEATHER_API\")\n",
        "\n",
        "if weather_key:\n",
        "    print(\" Weather API Key loaded successfully!\")\n",
        "    print(\"OPENWEATHER_API =\", weather_key[:5] + \"...\" + weather_key[-5:])\n",
        "else:\n",
        "    print(\" Failed to load API key.\")\n"
      ],
      "metadata": {
        "colab": {
          "base_uri": "https://localhost:8080/"
        },
        "id": "-oftnElyyiV1",
        "outputId": "530b10b7-ba86-4671-e079-83b6cb89b69a"
      },
      "execution_count": 15,
      "outputs": [
        {
          "output_type": "stream",
          "name": "stdout",
          "text": [
            " Weather API Key loaded successfully!\n",
            "OPENWEATHER_API = 576ba...00b85\n"
          ]
        }
      ]
    },
    {
      "cell_type": "code",
      "source": [],
      "metadata": {
        "id": "2Oz4z7G2yiSx"
      },
      "execution_count": null,
      "outputs": []
    },
    {
      "cell_type": "code",
      "source": [
        "class PlannerAgent:\n",
        "    def __init__(self):\n",
        "        pass\n",
        "\n",
        "    def plan(self, goal: str):\n",
        "        goal = goal.lower()\n",
        "        steps = []\n",
        "\n",
        "        if \"launch\" in goal or \"spacex\" in goal:\n",
        "            steps.append(\"get_next_launch_info\")\n",
        "\n",
        "        if \"weather\" in goal:\n",
        "            steps.append(\"check_weather_at_launch_site\")\n",
        "\n",
        "        if \"delay\" in goal or \"predict\" in goal:\n",
        "            steps.append(\"predict_possible_delay\")\n",
        "\n",
        "        return steps\n"
      ],
      "metadata": {
        "id": "lSGRQ6BIyiPm"
      },
      "execution_count": 16,
      "outputs": []
    },
    {
      "cell_type": "code",
      "source": [],
      "metadata": {
        "id": "O5anOI_oyiMT"
      },
      "execution_count": null,
      "outputs": []
    },
    {
      "cell_type": "markdown",
      "source": [
        "PHASE 1: Define the Goal & Build the Planner Agent"
      ],
      "metadata": {
        "id": "v50-niHD0hYF"
      }
    },
    {
      "cell_type": "code",
      "source": [
        "# Instantiate and test the planner\n",
        "planner = PlannerAgent()\n",
        "\n",
        "user_goal = \"Find the next SpaceX launch, check the weather at that location, and tell if it may be delayed.\"\n",
        "plan = planner.plan(user_goal)\n",
        "\n",
        "print(\" User Goal:\", user_goal)\n",
        "print(\" Planner Output:\", plan)\n"
      ],
      "metadata": {
        "colab": {
          "base_uri": "https://localhost:8080/"
        },
        "id": "Mqjh9VaTyiI4",
        "outputId": "eecc0f5b-66c3-4ea8-a1ee-a1a5f85c0f03"
      },
      "execution_count": 17,
      "outputs": [
        {
          "output_type": "stream",
          "name": "stdout",
          "text": [
            " User Goal: Find the next SpaceX launch, check the weather at that location, and tell if it may be delayed.\n",
            " Planner Output: ['get_next_launch_info', 'check_weather_at_launch_site', 'predict_possible_delay']\n"
          ]
        }
      ]
    },
    {
      "cell_type": "code",
      "source": [],
      "metadata": {
        "id": "9MIvj5XszA6C"
      },
      "execution_count": null,
      "outputs": []
    },
    {
      "cell_type": "code",
      "source": [],
      "metadata": {
        "id": "Rp6IHlilzA3j"
      },
      "execution_count": null,
      "outputs": []
    },
    {
      "cell_type": "markdown",
      "source": [
        " PHASE 2.1: Launch Agent (SpaceX API)\n"
      ],
      "metadata": {
        "id": "eMZIuYEC0wnM"
      }
    },
    {
      "cell_type": "code",
      "source": [
        "import requests\n",
        "\n",
        "class LaunchAgent:\n",
        "    def __init__(self):\n",
        "        self.base_url = \"https://api.spacexdata.com/v4\"\n",
        "\n",
        "    def get_next_launch_info(self):\n",
        "        try:\n",
        "            # Step 1: Get next launch\n",
        "            launch_url = f\"{self.base_url}/launches/next\"\n",
        "            launch_data = requests.get(launch_url).json()\n",
        "\n",
        "            rocket_id = launch_data.get(\"rocket\")\n",
        "            launchpad_id = launch_data.get(\"launchpad\")\n",
        "            launch_name = launch_data.get(\"name\")\n",
        "            launch_date = launch_data.get(\"date_utc\")\n",
        "\n",
        "            # Step 2: Get rocket name\n",
        "            rocket_data = requests.get(f\"{self.base_url}/rockets/{rocket_id}\").json()\n",
        "            rocket_name = rocket_data.get(\"name\")\n",
        "\n",
        "            # Step 3: Get launchpad details\n",
        "            pad_data = requests.get(f\"{self.base_url}/launchpads/{launchpad_id}\").json()\n",
        "            pad_name = pad_data.get(\"name\")\n",
        "            latitude = pad_data.get(\"latitude\")\n",
        "            longitude = pad_data.get(\"longitude\")\n",
        "\n",
        "            # Combine all info\n",
        "            return {\n",
        "                \"launch_name\": launch_name,\n",
        "                \"rocket\": rocket_name,\n",
        "                \"launchpad\": pad_name,\n",
        "                \"latitude\": latitude,\n",
        "                \"longitude\": longitude,\n",
        "                \"launch_date_utc\": launch_date\n",
        "            }\n",
        "\n",
        "        except Exception as e:\n",
        "            return {\"error\": str(e)}\n"
      ],
      "metadata": {
        "id": "rK1nsNeuzA1p"
      },
      "execution_count": 18,
      "outputs": []
    },
    {
      "cell_type": "code",
      "source": [
        "launch_agent = LaunchAgent()\n",
        "launch_info = launch_agent.get_next_launch_info()\n",
        "\n",
        "print(\"Launch Info:\")\n",
        "for k, v in launch_info.items():\n",
        "    print(f\"{k}: {v}\")\n"
      ],
      "metadata": {
        "colab": {
          "base_uri": "https://localhost:8080/"
        },
        "id": "EV4AptfnzAzS",
        "outputId": "e4733afc-6e5d-4b6f-c6b3-cb2162810a39"
      },
      "execution_count": 20,
      "outputs": [
        {
          "output_type": "stream",
          "name": "stdout",
          "text": [
            "Launch Info:\n",
            "launch_name: USSF-44\n",
            "rocket: Falcon Heavy\n",
            "launchpad: KSC LC 39A\n",
            "latitude: 28.6080585\n",
            "longitude: -80.6039558\n",
            "launch_date_utc: 2022-11-01T13:41:00.000Z\n"
          ]
        }
      ]
    },
    {
      "cell_type": "code",
      "source": [],
      "metadata": {
        "id": "c-mjU2SozAwk"
      },
      "execution_count": null,
      "outputs": []
    },
    {
      "cell_type": "markdown",
      "source": [
        " PHASE 2.2: Weather Agent (OpenWeatherMap API)\n"
      ],
      "metadata": {
        "id": "GMthHHHg2LV0"
      }
    },
    {
      "cell_type": "code",
      "source": [
        "import os\n",
        "import requests\n",
        "\n",
        "class WeatherAgent:\n",
        "    def __init__(self):\n",
        "        self.api_key = os.getenv(\"OPENWEATHER_API\")\n",
        "        self.base_url = \"https://api.openweathermap.org/data/2.5/weather\"\n",
        "\n",
        "    def get_weather(self, latitude, longitude):\n",
        "        try:\n",
        "            params = {\n",
        "                \"lat\": latitude,\n",
        "                \"lon\": longitude,\n",
        "                \"appid\": self.api_key,\n",
        "                \"units\": \"metric\"\n",
        "            }\n",
        "\n",
        "            response = requests.get(self.base_url, params=params)\n",
        "            data = response.json()\n",
        "\n",
        "            weather_info = {\n",
        "                \"location\": f\"{latitude}, {longitude}\",\n",
        "                \"description\": data['weather'][0]['description'],\n",
        "                \"temperature (°C)\": data['main']['temp'],\n",
        "                \"wind_speed (m/s)\": data['wind']['speed'],\n",
        "                \"cloudiness (%)\": data['clouds']['all']\n",
        "            }\n",
        "\n",
        "            # Optional: include rain data if available\n",
        "            if \"rain\" in data:\n",
        "                weather_info[\"rain (mm)\"] = data['rain'].get('1h', 0)\n",
        "\n",
        "            return weather_info\n",
        "\n",
        "        except Exception as e:\n",
        "            return {\"error\": str(e)}\n"
      ],
      "metadata": {
        "id": "y1HVwKTvzAtt"
      },
      "execution_count": 21,
      "outputs": []
    },
    {
      "cell_type": "code",
      "source": [
        "weather_agent = WeatherAgent()\n",
        "\n",
        "# Use coordinates from previous step\n",
        "latitude = 28.6080585\n",
        "longitude = -80.6039558\n",
        "\n",
        "weather = weather_agent.get_weather(latitude, longitude)\n",
        "\n",
        "print(\"Weather Info:\")\n",
        "for k, v in weather.items():\n",
        "    print(f\"{k}: {v}\")\n"
      ],
      "metadata": {
        "colab": {
          "base_uri": "https://localhost:8080/"
        },
        "id": "ksAuGFjE2T_Z",
        "outputId": "20be5a7c-fe4b-44ea-e966-f5eee26fa7f4"
      },
      "execution_count": 22,
      "outputs": [
        {
          "output_type": "stream",
          "name": "stdout",
          "text": [
            "Weather Info:\n",
            "location: 28.6080585, -80.6039558\n",
            "description: clear sky\n",
            "temperature (°C): 25.09\n",
            "wind_speed (m/s): 2.57\n",
            "cloudiness (%): 0\n"
          ]
        }
      ]
    },
    {
      "cell_type": "code",
      "source": [],
      "metadata": {
        "id": "U12DKss12T8p"
      },
      "execution_count": null,
      "outputs": []
    },
    {
      "cell_type": "markdown",
      "source": [
        "PHASE 2.3: Delay Predictor Agent"
      ],
      "metadata": {
        "id": "Vzlsg8dJ3BDx"
      }
    },
    {
      "cell_type": "code",
      "source": [
        "class DelayPredictorAgent:\n",
        "    def __init__(self):\n",
        "        pass\n",
        "\n",
        "    def predict(self, weather_info):\n",
        "        reasons = []\n",
        "\n",
        "        # Wind condition\n",
        "        wind = weather_info.get(\"wind_speed (m/s)\", 0)\n",
        "        if wind > 10:\n",
        "            reasons.append(f\"High wind speed ({wind} m/s)\")\n",
        "\n",
        "        # Cloudiness\n",
        "        clouds = weather_info.get(\"cloudiness (%)\", 0)\n",
        "        if clouds > 80:\n",
        "            reasons.append(f\"Heavy cloud cover ({clouds}%)\")\n",
        "\n",
        "        # Rain\n",
        "        rain = weather_info.get(\"rain (mm)\", 0)\n",
        "        if rain > 0:\n",
        "            reasons.append(f\"Rain detected ({rain} mm)\")\n",
        "\n",
        "        if reasons:\n",
        "            return {\n",
        "                \"delay_prediction\": \"Launch may be delayed\",\n",
        "                \"reasons\": reasons\n",
        "            }\n",
        "        else:\n",
        "            return {\n",
        "                \"delay_prediction\": \"Launch unlikely to be delayed\",\n",
        "                \"reasons\": [\"Weather conditions appear safe\"]\n",
        "            }\n"
      ],
      "metadata": {
        "id": "7EH-r0sw2T5p"
      },
      "execution_count": 23,
      "outputs": []
    },
    {
      "cell_type": "code",
      "source": [
        "delay_agent = DelayPredictorAgent()\n",
        "\n",
        "prediction = delay_agent.predict(weather)\n",
        "\n",
        "print(\"Delay Prediction:\")\n",
        "print(\"Result:\", prediction['delay_prediction'])\n",
        "print(\"Reasons:\")\n",
        "for r in prediction['reasons']:\n",
        "    print(\"-\", r)\n"
      ],
      "metadata": {
        "colab": {
          "base_uri": "https://localhost:8080/"
        },
        "id": "kYeTJHlZ2T25",
        "outputId": "a6104984-b56a-47c3-ffa2-2ea438b4862c"
      },
      "execution_count": 24,
      "outputs": [
        {
          "output_type": "stream",
          "name": "stdout",
          "text": [
            "Delay Prediction:\n",
            "Result: Launch unlikely to be delayed\n",
            "Reasons:\n",
            "- Weather conditions appear safe\n"
          ]
        }
      ]
    },
    {
      "cell_type": "code",
      "source": [],
      "metadata": {
        "id": "B6w7A1uc2T0H"
      },
      "execution_count": null,
      "outputs": []
    },
    {
      "cell_type": "code",
      "source": [],
      "metadata": {
        "id": "Q2DydpkS4xV-"
      },
      "execution_count": null,
      "outputs": []
    },
    {
      "cell_type": "markdown",
      "source": [
        "PHASE 3: Orchestration & Chaining Logic"
      ],
      "metadata": {
        "id": "OpLVh-wa5iKn"
      }
    },
    {
      "cell_type": "code",
      "source": [
        "def run_goal(goal_text):\n",
        "    print(\"User Goal:\", goal_text)\n",
        "\n",
        "    # Decide whether to use the class-based planner or simple functional one\n",
        "    if \"spacex\" in goal_text.lower() or \"launch\" in goal_text.lower():\n",
        "        planner = PlannerAgent()\n",
        "        plan = planner.plan(goal_text)\n",
        "    else:\n",
        "        plan = simple_planner(goal_text)\n",
        "\n",
        "    print(\"\\n Planned Steps:\", plan)\n",
        "\n",
        "    # Intermediate storage\n",
        "    context = {}\n",
        "\n",
        "    # Run based on whether it's class-based or functional agent\n",
        "    for step in plan:\n",
        "        print(f\"\\n Executing step: {step}\")\n",
        "\n",
        "        if step == \"get_next_launch_info\":\n",
        "            launch_agent = LaunchAgent()\n",
        "            launch_info = launch_agent.get_next_launch_info()\n",
        "            context[\"launch_info\"] = launch_info\n",
        "            print(\" Launch Info:\")\n",
        "            for k, v in launch_info.items():\n",
        "                print(f\"  {k}: {v}\")\n",
        "\n",
        "        elif step == \"check_weather_at_launch_site\":\n",
        "            weather_agent = WeatherAgent()\n",
        "            coords = context.get(\"launch_info\", {})\n",
        "            if not coords:\n",
        "                print(\"Launch info missing!\")\n",
        "                return\n",
        "\n",
        "            weather = weather_agent.get_weather(coords['latitude'], coords['longitude'])\n",
        "            context[\"weather_info\"] = weather\n",
        "            print(\"Weather Info:\")\n",
        "            for k, v in weather.items():\n",
        "                print(f\"  {k}: {v}\")\n",
        "\n",
        "        elif step == \"predict_possible_delay\":\n",
        "            delay_agent = DelayPredictorAgent()\n",
        "            weather = context.get(\"weather_info\", {})\n",
        "            if not weather:\n",
        "                print(\"Weather info missing!\")\n",
        "                return\n",
        "\n",
        "            prediction = delay_agent.predict(weather)\n",
        "            context[\"final_prediction\"] = prediction\n",
        "            print(\"Delay Prediction Result:\")\n",
        "            print(\"  Result:\", prediction[\"delay_prediction\"])\n",
        "            print(\"  Reasons:\")\n",
        "            for r in prediction[\"reasons\"]:\n",
        "                print(\"   -\", r)\n",
        "\n",
        "        elif step in agents:\n",
        "            result = agents[step](context)\n",
        "            context.update(result)\n",
        "\n",
        "        else:\n",
        "            print(f\"Unknown step: {step}\")\n",
        "\n",
        "    return context.get(\"final_prediction\", context)\n"
      ],
      "metadata": {
        "id": "YWk-ouKtAsr3"
      },
      "execution_count": 25,
      "outputs": []
    },
    {
      "cell_type": "code",
      "source": [
        "run_goal(\"Find the next SpaceX launch, check the weather at that location, and tell if it may be delayed.\")\n"
      ],
      "metadata": {
        "colab": {
          "base_uri": "https://localhost:8080/"
        },
        "id": "iLs6fo5t4xRc",
        "outputId": "691f43cc-d6e6-400a-f6bc-f85d9e21b238"
      },
      "execution_count": 26,
      "outputs": [
        {
          "output_type": "stream",
          "name": "stdout",
          "text": [
            "User Goal: Find the next SpaceX launch, check the weather at that location, and tell if it may be delayed.\n",
            "\n",
            " Planned Steps: ['get_next_launch_info', 'check_weather_at_launch_site', 'predict_possible_delay']\n",
            "\n",
            " Executing step: get_next_launch_info\n",
            " Launch Info:\n",
            "  launch_name: USSF-44\n",
            "  rocket: Falcon Heavy\n",
            "  launchpad: KSC LC 39A\n",
            "  latitude: 28.6080585\n",
            "  longitude: -80.6039558\n",
            "  launch_date_utc: 2022-11-01T13:41:00.000Z\n",
            "\n",
            " Executing step: check_weather_at_launch_site\n",
            "Weather Info:\n",
            "  location: 28.6080585, -80.6039558\n",
            "  description: clear sky\n",
            "  temperature (°C): 25.09\n",
            "  wind_speed (m/s): 2.57\n",
            "  cloudiness (%): 0\n",
            "\n",
            " Executing step: predict_possible_delay\n",
            "Delay Prediction Result:\n",
            "  Result: Launch unlikely to be delayed\n",
            "  Reasons:\n",
            "   - Weather conditions appear safe\n"
          ]
        },
        {
          "output_type": "execute_result",
          "data": {
            "text/plain": [
              "{'delay_prediction': 'Launch unlikely to be delayed',\n",
              " 'reasons': ['Weather conditions appear safe']}"
            ]
          },
          "metadata": {},
          "execution_count": 26
        }
      ]
    },
    {
      "cell_type": "code",
      "source": [],
      "metadata": {
        "id": "gbXByNIN4xOw"
      },
      "execution_count": null,
      "outputs": []
    },
    {
      "cell_type": "markdown",
      "source": [
        " PHASE 4: Evaluation & Logging"
      ],
      "metadata": {
        "id": "AbGVGHNV6kV9"
      }
    },
    {
      "cell_type": "code",
      "source": [
        "import json\n",
        "from datetime import datetime\n",
        "\n",
        "def evaluate_goal(goal_text, eval_id=\"eval_1\"):\n",
        "    print(f\"\\nRunning Evaluation: {eval_id}\")\n",
        "    result = run_goal(goal_text)\n",
        "\n",
        "    log = {\n",
        "        \"evaluation_id\": eval_id,\n",
        "        \"timestamp\": datetime.utcnow().isoformat(),\n",
        "        \"goal\": goal_text,\n",
        "        \"result\": result\n",
        "    }\n",
        "\n",
        "    # Save to file\n",
        "    with open(f\"{eval_id}.json\", \"w\") as f:\n",
        "        json.dump(log, f, indent=4)\n",
        "\n",
        "    print(f\"\\nEvaluation saved as '{eval_id}.json'\")\n",
        "    return log\n"
      ],
      "metadata": {
        "id": "8L8vepLR4xLG"
      },
      "execution_count": 27,
      "outputs": []
    },
    {
      "cell_type": "code",
      "source": [
        "evaluate_goal(\n",
        "    \"Find the next SpaceX launch, check the weather at that location, and tell if it may be delayed.\",\n",
        "    eval_id=\"eval_1_spacex_weather_delay\"\n",
        ")\n"
      ],
      "metadata": {
        "colab": {
          "base_uri": "https://localhost:8080/"
        },
        "id": "WkvbZsbu4xIv",
        "outputId": "a1e0b2c1-b6f3-490f-d4f1-f164bf87a3cb"
      },
      "execution_count": 28,
      "outputs": [
        {
          "output_type": "stream",
          "name": "stdout",
          "text": [
            "\n",
            "Running Evaluation: eval_1_spacex_weather_delay\n",
            "User Goal: Find the next SpaceX launch, check the weather at that location, and tell if it may be delayed.\n",
            "\n",
            " Planned Steps: ['get_next_launch_info', 'check_weather_at_launch_site', 'predict_possible_delay']\n",
            "\n",
            " Executing step: get_next_launch_info\n",
            " Launch Info:\n",
            "  launch_name: USSF-44\n",
            "  rocket: Falcon Heavy\n",
            "  launchpad: KSC LC 39A\n",
            "  latitude: 28.6080585\n",
            "  longitude: -80.6039558\n",
            "  launch_date_utc: 2022-11-01T13:41:00.000Z\n",
            "\n",
            " Executing step: check_weather_at_launch_site\n",
            "Weather Info:\n",
            "  location: 28.6080585, -80.6039558\n",
            "  description: clear sky\n",
            "  temperature (°C): 25.09\n",
            "  wind_speed (m/s): 2.57\n",
            "  cloudiness (%): 0\n",
            "\n",
            " Executing step: predict_possible_delay\n",
            "Delay Prediction Result:\n",
            "  Result: Launch unlikely to be delayed\n",
            "  Reasons:\n",
            "   - Weather conditions appear safe\n",
            "\n",
            "Evaluation saved as 'eval_1_spacex_weather_delay.json'\n"
          ]
        },
        {
          "output_type": "execute_result",
          "data": {
            "text/plain": [
              "{'evaluation_id': 'eval_1_spacex_weather_delay',\n",
              " 'timestamp': '2025-06-16T11:30:48.925232',\n",
              " 'goal': 'Find the next SpaceX launch, check the weather at that location, and tell if it may be delayed.',\n",
              " 'result': {'delay_prediction': 'Launch unlikely to be delayed',\n",
              "  'reasons': ['Weather conditions appear safe']}}"
            ]
          },
          "metadata": {},
          "execution_count": 28
        }
      ]
    },
    {
      "cell_type": "code",
      "source": [],
      "metadata": {
        "id": "BcDtT0OH4xFg"
      },
      "execution_count": null,
      "outputs": []
    },
    {
      "cell_type": "code",
      "source": [],
      "metadata": {
        "id": "ItyucM7X7mjV"
      },
      "execution_count": null,
      "outputs": []
    },
    {
      "cell_type": "markdown",
      "source": [
        "Phase 4.2 – Eval #2 (New Use Case)"
      ],
      "metadata": {
        "id": "qI0tNrMA71rE"
      }
    },
    {
      "cell_type": "code",
      "source": [
        "from google.colab import files\n",
        "import os\n",
        "from dotenv import load_dotenv\n",
        "\n",
        "# Step 1: Upload from local\n",
        "print(\"📤 Please upload your `.env` file:\")\n",
        "uploaded = files.upload()\n",
        "\n",
        "#  Step 2: Find any uploaded file that looks like .env\n",
        "env_filename = None\n",
        "for fname in uploaded.keys():\n",
        "    if \"env\" in fname:\n",
        "        env_filename = fname\n",
        "        break\n",
        "\n",
        "# Step 3: Rename to `.env`\n",
        "if env_filename:\n",
        "    os.rename(env_filename, \".env\")\n",
        "    print(f\"Renamed '{env_filename}' to '.env'\")\n",
        "else:\n",
        "    raise FileNotFoundError(\".env file not found or not named correctly. Please try again.\")\n",
        "\n",
        "# Step 4: Load environment variables\n",
        "load_dotenv('.env')\n",
        "\n",
        "# Step 5: Fetch and verify NEWS_API_KEY\n",
        "news_api_key = os.getenv(\"NEWS_API_KEY\")\n",
        "\n",
        "if news_api_key:\n",
        "    print(\"News API Key loaded successfully!\")\n",
        "    print(\" NEWS_API_KEY =\", news_api_key[:5] + \"...\" + news_api_key[-5:])\n",
        "else:\n",
        "    print(\" Failed to load NEWS_API_KEY. Please check your `.env` content.\")\n"
      ],
      "metadata": {
        "colab": {
          "base_uri": "https://localhost:8080/",
          "height": 146
        },
        "id": "owMknzNVDg_q",
        "outputId": "b3b51297-de61-4f62-b500-8464bc9dc53d"
      },
      "execution_count": 29,
      "outputs": [
        {
          "output_type": "stream",
          "name": "stdout",
          "text": [
            "📤 Please upload your `.env` file:\n"
          ]
        },
        {
          "output_type": "display_data",
          "data": {
            "text/plain": [
              "<IPython.core.display.HTML object>"
            ],
            "text/html": [
              "\n",
              "     <input type=\"file\" id=\"files-6e649927-7fee-43f9-bcff-2c33295dc5e6\" name=\"files[]\" multiple disabled\n",
              "        style=\"border:none\" />\n",
              "     <output id=\"result-6e649927-7fee-43f9-bcff-2c33295dc5e6\">\n",
              "      Upload widget is only available when the cell has been executed in the\n",
              "      current browser session. Please rerun this cell to enable.\n",
              "      </output>\n",
              "      <script>// Copyright 2017 Google LLC\n",
              "//\n",
              "// Licensed under the Apache License, Version 2.0 (the \"License\");\n",
              "// you may not use this file except in compliance with the License.\n",
              "// You may obtain a copy of the License at\n",
              "//\n",
              "//      http://www.apache.org/licenses/LICENSE-2.0\n",
              "//\n",
              "// Unless required by applicable law or agreed to in writing, software\n",
              "// distributed under the License is distributed on an \"AS IS\" BASIS,\n",
              "// WITHOUT WARRANTIES OR CONDITIONS OF ANY KIND, either express or implied.\n",
              "// See the License for the specific language governing permissions and\n",
              "// limitations under the License.\n",
              "\n",
              "/**\n",
              " * @fileoverview Helpers for google.colab Python module.\n",
              " */\n",
              "(function(scope) {\n",
              "function span(text, styleAttributes = {}) {\n",
              "  const element = document.createElement('span');\n",
              "  element.textContent = text;\n",
              "  for (const key of Object.keys(styleAttributes)) {\n",
              "    element.style[key] = styleAttributes[key];\n",
              "  }\n",
              "  return element;\n",
              "}\n",
              "\n",
              "// Max number of bytes which will be uploaded at a time.\n",
              "const MAX_PAYLOAD_SIZE = 100 * 1024;\n",
              "\n",
              "function _uploadFiles(inputId, outputId) {\n",
              "  const steps = uploadFilesStep(inputId, outputId);\n",
              "  const outputElement = document.getElementById(outputId);\n",
              "  // Cache steps on the outputElement to make it available for the next call\n",
              "  // to uploadFilesContinue from Python.\n",
              "  outputElement.steps = steps;\n",
              "\n",
              "  return _uploadFilesContinue(outputId);\n",
              "}\n",
              "\n",
              "// This is roughly an async generator (not supported in the browser yet),\n",
              "// where there are multiple asynchronous steps and the Python side is going\n",
              "// to poll for completion of each step.\n",
              "// This uses a Promise to block the python side on completion of each step,\n",
              "// then passes the result of the previous step as the input to the next step.\n",
              "function _uploadFilesContinue(outputId) {\n",
              "  const outputElement = document.getElementById(outputId);\n",
              "  const steps = outputElement.steps;\n",
              "\n",
              "  const next = steps.next(outputElement.lastPromiseValue);\n",
              "  return Promise.resolve(next.value.promise).then((value) => {\n",
              "    // Cache the last promise value to make it available to the next\n",
              "    // step of the generator.\n",
              "    outputElement.lastPromiseValue = value;\n",
              "    return next.value.response;\n",
              "  });\n",
              "}\n",
              "\n",
              "/**\n",
              " * Generator function which is called between each async step of the upload\n",
              " * process.\n",
              " * @param {string} inputId Element ID of the input file picker element.\n",
              " * @param {string} outputId Element ID of the output display.\n",
              " * @return {!Iterable<!Object>} Iterable of next steps.\n",
              " */\n",
              "function* uploadFilesStep(inputId, outputId) {\n",
              "  const inputElement = document.getElementById(inputId);\n",
              "  inputElement.disabled = false;\n",
              "\n",
              "  const outputElement = document.getElementById(outputId);\n",
              "  outputElement.innerHTML = '';\n",
              "\n",
              "  const pickedPromise = new Promise((resolve) => {\n",
              "    inputElement.addEventListener('change', (e) => {\n",
              "      resolve(e.target.files);\n",
              "    });\n",
              "  });\n",
              "\n",
              "  const cancel = document.createElement('button');\n",
              "  inputElement.parentElement.appendChild(cancel);\n",
              "  cancel.textContent = 'Cancel upload';\n",
              "  const cancelPromise = new Promise((resolve) => {\n",
              "    cancel.onclick = () => {\n",
              "      resolve(null);\n",
              "    };\n",
              "  });\n",
              "\n",
              "  // Wait for the user to pick the files.\n",
              "  const files = yield {\n",
              "    promise: Promise.race([pickedPromise, cancelPromise]),\n",
              "    response: {\n",
              "      action: 'starting',\n",
              "    }\n",
              "  };\n",
              "\n",
              "  cancel.remove();\n",
              "\n",
              "  // Disable the input element since further picks are not allowed.\n",
              "  inputElement.disabled = true;\n",
              "\n",
              "  if (!files) {\n",
              "    return {\n",
              "      response: {\n",
              "        action: 'complete',\n",
              "      }\n",
              "    };\n",
              "  }\n",
              "\n",
              "  for (const file of files) {\n",
              "    const li = document.createElement('li');\n",
              "    li.append(span(file.name, {fontWeight: 'bold'}));\n",
              "    li.append(span(\n",
              "        `(${file.type || 'n/a'}) - ${file.size} bytes, ` +\n",
              "        `last modified: ${\n",
              "            file.lastModifiedDate ? file.lastModifiedDate.toLocaleDateString() :\n",
              "                                    'n/a'} - `));\n",
              "    const percent = span('0% done');\n",
              "    li.appendChild(percent);\n",
              "\n",
              "    outputElement.appendChild(li);\n",
              "\n",
              "    const fileDataPromise = new Promise((resolve) => {\n",
              "      const reader = new FileReader();\n",
              "      reader.onload = (e) => {\n",
              "        resolve(e.target.result);\n",
              "      };\n",
              "      reader.readAsArrayBuffer(file);\n",
              "    });\n",
              "    // Wait for the data to be ready.\n",
              "    let fileData = yield {\n",
              "      promise: fileDataPromise,\n",
              "      response: {\n",
              "        action: 'continue',\n",
              "      }\n",
              "    };\n",
              "\n",
              "    // Use a chunked sending to avoid message size limits. See b/62115660.\n",
              "    let position = 0;\n",
              "    do {\n",
              "      const length = Math.min(fileData.byteLength - position, MAX_PAYLOAD_SIZE);\n",
              "      const chunk = new Uint8Array(fileData, position, length);\n",
              "      position += length;\n",
              "\n",
              "      const base64 = btoa(String.fromCharCode.apply(null, chunk));\n",
              "      yield {\n",
              "        response: {\n",
              "          action: 'append',\n",
              "          file: file.name,\n",
              "          data: base64,\n",
              "        },\n",
              "      };\n",
              "\n",
              "      let percentDone = fileData.byteLength === 0 ?\n",
              "          100 :\n",
              "          Math.round((position / fileData.byteLength) * 100);\n",
              "      percent.textContent = `${percentDone}% done`;\n",
              "\n",
              "    } while (position < fileData.byteLength);\n",
              "  }\n",
              "\n",
              "  // All done.\n",
              "  yield {\n",
              "    response: {\n",
              "      action: 'complete',\n",
              "    }\n",
              "  };\n",
              "}\n",
              "\n",
              "scope.google = scope.google || {};\n",
              "scope.google.colab = scope.google.colab || {};\n",
              "scope.google.colab._files = {\n",
              "  _uploadFiles,\n",
              "  _uploadFilesContinue,\n",
              "};\n",
              "})(self);\n",
              "</script> "
            ]
          },
          "metadata": {}
        },
        {
          "output_type": "stream",
          "name": "stdout",
          "text": [
            "Saving .env.txt to .env.txt\n",
            "Renamed '.env.txt' to '.env'\n",
            "News API Key loaded successfully!\n",
            " NEWS_API_KEY = d0edb...2ce05\n"
          ]
        }
      ]
    },
    {
      "cell_type": "code",
      "source": [],
      "metadata": {
        "id": "ZZ0tT3PHDhW5"
      },
      "execution_count": null,
      "outputs": []
    },
    {
      "cell_type": "code",
      "source": [],
      "metadata": {
        "id": "eosTARycDhUJ"
      },
      "execution_count": null,
      "outputs": []
    },
    {
      "cell_type": "code",
      "source": [],
      "metadata": {
        "id": "Q5yyukNqDg8z"
      },
      "execution_count": null,
      "outputs": []
    },
    {
      "cell_type": "code",
      "source": [
        "from dotenv import load_dotenv\n",
        "import os\n",
        "\n",
        "# Load environment variables\n",
        "load_dotenv('.env')\n",
        "\n",
        "# Validate API key load\n",
        "news_api_key = os.getenv(\"NEWS_API_KEY\")\n",
        "if news_api_key:\n",
        "    print(\" News API Key loaded:\", news_api_key[:5] + \"...\" + news_api_key[-5:])\n",
        "else:\n",
        "    print(\" NEWS_API_KEY not loaded.\")\n"
      ],
      "metadata": {
        "colab": {
          "base_uri": "https://localhost:8080/"
        },
        "id": "fkW77_9P7mgz",
        "outputId": "f4306e26-f913-4ca8-85d6-4a6d8f198bcf"
      },
      "execution_count": 30,
      "outputs": [
        {
          "output_type": "stream",
          "name": "stdout",
          "text": [
            " News API Key loaded: d0edb...2ce05\n"
          ]
        }
      ]
    },
    {
      "cell_type": "code",
      "source": [
        "import requests\n",
        "\n",
        "def get_bitcoin_price(_):\n",
        "    url = \"https://api.coingecko.com/api/v3/simple/price?ids=bitcoin&vs_currencies=usd\"\n",
        "    response = requests.get(url)\n",
        "    data = response.json()\n",
        "    price = data.get(\"bitcoin\", {}).get(\"usd\", \"N/A\")\n",
        "    print(f\" Bitcoin Price: ${price}\")\n",
        "    return {\"bitcoin_price_usd\": price}\n"
      ],
      "metadata": {
        "id": "bPM6Zqtp7mew"
      },
      "execution_count": 31,
      "outputs": []
    },
    {
      "cell_type": "code",
      "source": [
        "def get_bitcoin_news(context):\n",
        "    news_api_key = os.getenv(\"NEWS_API_KEY\")\n",
        "    url = f\"https://newsapi.org/v2/everything?q=bitcoin&sortBy=publishedAt&apiKey={news_api_key}\"\n",
        "\n",
        "    response = requests.get(url)\n",
        "    if response.status_code != 200:\n",
        "        print(\" Failed to fetch news:\", response.status_code, response.text)\n",
        "        return {\"news_headlines\": []}\n",
        "\n",
        "    articles = response.json().get(\"articles\", [])[:5]\n",
        "    summaries = [article[\"title\"] for article in articles]\n",
        "\n",
        "    print(\"Bitcoin News Headlines:\")\n",
        "    for i, headline in enumerate(summaries, 1):\n",
        "        print(f\"  {i}. {headline}\")\n",
        "\n",
        "    return {\"news_headlines\": summaries}\n"
      ],
      "metadata": {
        "id": "nwJC8VKK7mbw"
      },
      "execution_count": 32,
      "outputs": []
    },
    {
      "cell_type": "code",
      "source": [
        "def summarize_sentiment(context):\n",
        "    headlines = context.get(\"news_headlines\", [])\n",
        "    positive_keywords = [\"rise\", \"gain\", \"soar\", \"bullish\", \"profit\"]\n",
        "    negative_keywords = [\"fall\", \"drop\", \"loss\", \"bearish\", \"crash\"]\n",
        "\n",
        "    score = 0\n",
        "    for h in headlines:\n",
        "        h = h.lower()\n",
        "        score += sum(1 for word in positive_keywords if word in h)\n",
        "        score -= sum(1 for word in negative_keywords if word in h)\n",
        "\n",
        "    sentiment = \" Neutral\"\n",
        "    if score > 1:\n",
        "        sentiment = \" Positive\"\n",
        "    elif score < -1:\n",
        "        sentiment = \" Negative\"\n",
        "\n",
        "    print(f\" Market Sentiment: {sentiment}\")\n",
        "    return {\"market_sentiment\": sentiment}\n"
      ],
      "metadata": {
        "id": "mlWPhCsv8FGz"
      },
      "execution_count": 33,
      "outputs": []
    },
    {
      "cell_type": "code",
      "source": [],
      "metadata": {
        "id": "JNiI3N8G8FD8"
      },
      "execution_count": null,
      "outputs": []
    },
    {
      "cell_type": "code",
      "source": [
        "def simple_planner(goal):\n",
        "    goal_lower = goal.lower()\n",
        "    if \"spacex\" in goal_lower:\n",
        "        return [\"get_next_launch_info\", \"check_weather_at_launch_site\", \"predict_possible_delay\"]\n",
        "    elif \"bitcoin\" in goal_lower:\n",
        "        return [\"get_bitcoin_price\", \"get_bitcoin_news\", \"summarize_sentiment\"]\n",
        "    return []\n"
      ],
      "metadata": {
        "id": "Eixl8YUT8FBK"
      },
      "execution_count": 34,
      "outputs": []
    },
    {
      "cell_type": "code",
      "source": [
        "agents = {\n",
        "    \"get_bitcoin_price\": get_bitcoin_price,\n",
        "    \"get_bitcoin_news\": get_bitcoin_news,\n",
        "    \"summarize_sentiment\": summarize_sentiment,\n",
        "}\n"
      ],
      "metadata": {
        "id": "u4R6rFVR8E95"
      },
      "execution_count": 35,
      "outputs": []
    },
    {
      "cell_type": "code",
      "source": [
        "evaluate_goal(\n",
        "    \"Find the current price of Bitcoin, check recent news about Bitcoin, and summarize market sentiment.\",\n",
        "    eval_id=\"eval_2_bitcoin_sentiment\"\n",
        ")\n"
      ],
      "metadata": {
        "colab": {
          "base_uri": "https://localhost:8080/"
        },
        "id": "BzRqc4Uu8dgi",
        "outputId": "28888d20-b5d2-4077-9d66-c867b1a78c5f"
      },
      "execution_count": 36,
      "outputs": [
        {
          "output_type": "stream",
          "name": "stdout",
          "text": [
            "\n",
            "Running Evaluation: eval_2_bitcoin_sentiment\n",
            "User Goal: Find the current price of Bitcoin, check recent news about Bitcoin, and summarize market sentiment.\n",
            "\n",
            " Planned Steps: ['get_bitcoin_price', 'get_bitcoin_news', 'summarize_sentiment']\n",
            "\n",
            " Executing step: get_bitcoin_price\n",
            " Bitcoin Price: $106653\n",
            "\n",
            " Executing step: get_bitcoin_news\n",
            "Bitcoin News Headlines:\n",
            "  1. Bitcoin Investors Remain Calm Despite Israel-Iran Conflict Escalation\n",
            "  2. Bitcoin price targets mushroom as traders bet on $140K+ this bull run\n",
            "  3. Trump pocketed over $57 mn from crypto coin sales\n",
            "  4. Seventh Presale Phase: Bitcoin Solaris Nears Public Launch with 10,000 TPS and 21M Supply Cap\n",
            "  5. 10 Sunday Reads\n",
            "\n",
            " Executing step: summarize_sentiment\n",
            " Market Sentiment:  Neutral\n",
            "\n",
            "Evaluation saved as 'eval_2_bitcoin_sentiment.json'\n"
          ]
        },
        {
          "output_type": "execute_result",
          "data": {
            "text/plain": [
              "{'evaluation_id': 'eval_2_bitcoin_sentiment',\n",
              " 'timestamp': '2025-06-16T11:32:20.760105',\n",
              " 'goal': 'Find the current price of Bitcoin, check recent news about Bitcoin, and summarize market sentiment.',\n",
              " 'result': {'bitcoin_price_usd': 106653,\n",
              "  'news_headlines': ['Bitcoin Investors Remain Calm Despite Israel-Iran Conflict Escalation',\n",
              "   'Bitcoin price targets mushroom as traders bet on $140K+ this bull run',\n",
              "   'Trump pocketed over $57 mn from crypto coin sales',\n",
              "   'Seventh Presale Phase: Bitcoin Solaris Nears Public Launch with 10,000 TPS and 21M Supply Cap',\n",
              "   '10 Sunday Reads'],\n",
              "  'market_sentiment': ' Neutral'}}"
            ]
          },
          "metadata": {},
          "execution_count": 36
        }
      ]
    },
    {
      "cell_type": "code",
      "source": [
        "!ls\n"
      ],
      "metadata": {
        "colab": {
          "base_uri": "https://localhost:8080/"
        },
        "id": "w_yAtcDo8ddG",
        "outputId": "6ae31258-88a3-49b0-c8f5-c119970d64b8"
      },
      "execution_count": 37,
      "outputs": [
        {
          "output_type": "stream",
          "name": "stdout",
          "text": [
            "eval_1_spacex_weather_delay.json  eval_2_bitcoin_sentiment.json  sample_data\n"
          ]
        }
      ]
    },
    {
      "cell_type": "code",
      "source": [],
      "metadata": {
        "id": "f-hxM8WS8daD"
      },
      "execution_count": null,
      "outputs": []
    },
    {
      "cell_type": "markdown",
      "source": [
        "FastAPI Endpoint for Evaluation + Storage\n"
      ],
      "metadata": {
        "id": "UPldUY-HF97x"
      }
    },
    {
      "cell_type": "code",
      "source": [
        "# STEP 1: Install necessary libraries\n",
        "!pip install fastapi uvicorn nest_asyncio pyngrok python-multipart aiofiles --quiet\n"
      ],
      "metadata": {
        "id": "hDJEEwwGGAT3"
      },
      "execution_count": 38,
      "outputs": []
    },
    {
      "cell_type": "code",
      "source": [
        "#  Configure ngrok authtoken\n",
        "!ngrok config add-authtoken 2yMN4GMKS6s6c4qH5iSCm2ieiIR_3KGhaEMmUbndyr7ZjVPe4\n"
      ],
      "metadata": {
        "colab": {
          "base_uri": "https://localhost:8080/"
        },
        "id": "cGaIh1vBemOg",
        "outputId": "8a48b9da-458a-4083-b5bc-56e70118a1ae"
      },
      "execution_count": 39,
      "outputs": [
        {
          "output_type": "stream",
          "name": "stdout",
          "text": [
            "Authtoken saved to configuration file: /root/.config/ngrok/ngrok.yml\n"
          ]
        }
      ]
    },
    {
      "cell_type": "code",
      "source": [
        "# STEP 1: Install required packages\n",
        "!pip install fastapi uvicorn nest_asyncio pyngrok python-multipart aiofiles python-dotenv --quiet\n"
      ],
      "metadata": {
        "id": "qRcU9f6HGAlS"
      },
      "execution_count": 40,
      "outputs": []
    },
    {
      "cell_type": "code",
      "source": [
        "\n",
        "# STEP 2: Imports\n",
        "from fastapi import FastAPI, File, UploadFile\n",
        "from fastapi.responses import JSONResponse\n",
        "from pydantic import BaseModel\n",
        "from typing import List\n",
        "import os\n",
        "import json\n",
        "from datetime import datetime\n",
        "import requests\n",
        "from dotenv import load_dotenv\n",
        "import nest_asyncio\n",
        "from pyngrok import ngrok\n",
        "import uvicorn\n",
        "\n",
        "# STEP 3: Load environment variables from uploaded .env file\n",
        "uploaded = files.upload()  # You must upload your `.env.txt` file here\n",
        "env_file_path = next(iter(uploaded))  # get uploaded filename\n",
        "if not env_file_path.endswith('.txt'):\n",
        "    raise ValueError(\"Uploaded file must be `.env.txt` format.\")\n",
        "os.rename(env_file_path, '.env')  # rename to .env\n",
        "load_dotenv('.env')\n",
        "\n",
        "#  STEP 4: Define Agents\n",
        "def get_bitcoin_price(_):\n",
        "    url = \"https://api.coingecko.com/api/v3/simple/price?ids=bitcoin&vs_currencies=usd\"\n",
        "    data = requests.get(url).json()\n",
        "    return {\"bitcoin_price_usd\": data.get(\"bitcoin\", {}).get(\"usd\", \"N/A\")}\n",
        "\n",
        "def get_bitcoin_news(context):\n",
        "    api_key = os.getenv(\"NEWS_API_KEY\")\n",
        "    url = f\"https://newsapi.org/v2/everything?q=bitcoin&sortBy=publishedAt&apiKey={api_key}\"\n",
        "    response = requests.get(url)\n",
        "    if response.status_code != 200:\n",
        "        return {\"news_headlines\": []}\n",
        "    articles = response.json().get(\"articles\", [])[:5]\n",
        "    return {\"news_headlines\": [a[\"title\"] for a in articles]}\n",
        "\n",
        "def summarize_sentiment(context):\n",
        "    headlines = context.get(\"news_headlines\", [])\n",
        "    pos = [\"rise\", \"gain\", \"soar\", \"bullish\", \"profit\"]\n",
        "    neg = [\"fall\", \"drop\", \"loss\", \"bearish\", \"crash\"]\n",
        "    score = sum(any(p in h.lower() for p in pos) for h in headlines) - \\\n",
        "            sum(any(n in h.lower() for n in neg) for h in headlines)\n",
        "    if score > 1: return {\"market_sentiment\": \" Positive\"}\n",
        "    elif score < -1: return {\"market_sentiment\": \" Negative\"}\n",
        "    return {\"market_sentiment\": \" Neutral\"}\n",
        "\n",
        "def get_next_launch_info(_):\n",
        "    data = requests.get(\"https://api.spacexdata.com/v4/launches/next\").json()\n",
        "    return {\n",
        "        \"mission\": data.get(\"name\"),\n",
        "        \"launch_date\": data.get(\"date_utc\"),\n",
        "        \"launchpad\": data.get(\"launchpad\"),\n",
        "    }\n",
        "\n",
        "def check_weather_at_launch_site(_):\n",
        "    url = f\"https://api.openweathermap.org/data/2.5/weather?lat=28.56&lon=-80.57&appid={os.getenv('OPENWEATHER_API_KEY')}&units=metric\"\n",
        "    r = requests.get(url)\n",
        "    if r.status_code != 200:\n",
        "        return {\"weather\": \"Unavailable\"}\n",
        "    data = r.json()\n",
        "    return {\n",
        "        \"temperature\": data[\"main\"][\"temp\"],\n",
        "        \"wind_speed\": data[\"wind\"][\"speed\"],\n",
        "        \"description\": data[\"weather\"][0][\"description\"]\n",
        "    }\n",
        "\n",
        "def predict_possible_delay(context):\n",
        "    wind = context.get(\"wind_speed\", 0)\n",
        "    temp = context.get(\"temperature\", 0)\n",
        "    if wind > 15 or temp < 5:\n",
        "        return {\"launch_delay_risk\": \" High\"}\n",
        "    return {\"launch_delay_risk\": \" Low\"}\n",
        "\n",
        "#  STEP 5: Planner + Evaluator\n",
        "def simple_planner(goal):\n",
        "    g = goal.lower()\n",
        "    if \"bitcoin\" in g:\n",
        "        return [\"get_bitcoin_price\", \"get_bitcoin_news\", \"summarize_sentiment\"]\n",
        "    elif \"spacex\" in g or \"launch\" in g:\n",
        "        return [\"get_next_launch_info\", \"check_weather_at_launch_site\", \"predict_possible_delay\"]\n",
        "    return []\n",
        "\n",
        "def run_goal(goal):\n",
        "    plan = simple_planner(goal)\n",
        "    context = {}\n",
        "    for step in plan:\n",
        "        fn = agents.get(step)\n",
        "        if fn:\n",
        "            context.update(fn(context))\n",
        "    return context\n",
        "\n",
        "def evaluate_goal(goal, eval_id=None):\n",
        "    result = run_goal(goal)\n",
        "    data = {\n",
        "        \"evaluation_id\": eval_id or f\"eval_{datetime.utcnow().isoformat()}\",\n",
        "        \"timestamp\": datetime.utcnow().isoformat(),\n",
        "        \"goal\": goal,\n",
        "        \"result\": result\n",
        "    }\n",
        "    os.makedirs(\"evaluations\", exist_ok=True)\n",
        "    with open(f\"evaluations/{data['evaluation_id']}.json\", \"w\") as f:\n",
        "        json.dump(data, f, indent=2)\n",
        "    return data\n",
        "\n",
        "#  STEP 6: Agent Map\n",
        "agents = {\n",
        "    \"get_bitcoin_price\": get_bitcoin_price,\n",
        "    \"get_bitcoin_news\": get_bitcoin_news,\n",
        "    \"summarize_sentiment\": summarize_sentiment,\n",
        "    \"get_next_launch_info\": get_next_launch_info,\n",
        "    \"check_weather_at_launch_site\": check_weather_at_launch_site,\n",
        "    \"predict_possible_delay\": predict_possible_delay,\n",
        "}\n",
        "\n",
        "# STEP 7: FastAPI App\n",
        "app = FastAPI()\n",
        "\n",
        "class GoalRequest(BaseModel):\n",
        "    goal: str\n",
        "    eval_id: str = None\n",
        "\n",
        "@app.post(\"/evaluate\")\n",
        "def evaluate(request: GoalRequest):\n",
        "    output = evaluate_goal(request.goal, request.eval_id)\n",
        "    return JSONResponse(content=output)\n",
        "\n",
        "@app.get(\"/evaluations\")\n",
        "def list_evaluations():\n",
        "    results = []\n",
        "    for file in os.listdir(\"evaluations\"):\n",
        "        if file.endswith(\".json\"):\n",
        "            with open(f\"evaluations/{file}\") as f:\n",
        "                results.append(json.load(f))\n",
        "    return results\n",
        "\n",
        "#  STEP 8: Run FastAPI inside notebook using uvicorn programmatically\n",
        "nest_asyncio.apply()\n",
        "public_url = ngrok.connect(8000)\n",
        "print(f\"🚀 FastAPI running at: {public_url}\")\n",
        "\n",
        "uvicorn.run(app, host=\"0.0.0.0\", port=8000)\n"
      ],
      "metadata": {
        "colab": {
          "base_uri": "https://localhost:8080/",
          "height": 239
        },
        "id": "5O0Egyetggnp",
        "outputId": "6a0f98d4-2a1c-4396-ad23-ac802070c3ec"
      },
      "execution_count": null,
      "outputs": [
        {
          "output_type": "display_data",
          "data": {
            "text/plain": [
              "<IPython.core.display.HTML object>"
            ],
            "text/html": [
              "\n",
              "     <input type=\"file\" id=\"files-e7f0f248-8439-47d5-9580-a4541d8e6641\" name=\"files[]\" multiple disabled\n",
              "        style=\"border:none\" />\n",
              "     <output id=\"result-e7f0f248-8439-47d5-9580-a4541d8e6641\">\n",
              "      Upload widget is only available when the cell has been executed in the\n",
              "      current browser session. Please rerun this cell to enable.\n",
              "      </output>\n",
              "      <script>// Copyright 2017 Google LLC\n",
              "//\n",
              "// Licensed under the Apache License, Version 2.0 (the \"License\");\n",
              "// you may not use this file except in compliance with the License.\n",
              "// You may obtain a copy of the License at\n",
              "//\n",
              "//      http://www.apache.org/licenses/LICENSE-2.0\n",
              "//\n",
              "// Unless required by applicable law or agreed to in writing, software\n",
              "// distributed under the License is distributed on an \"AS IS\" BASIS,\n",
              "// WITHOUT WARRANTIES OR CONDITIONS OF ANY KIND, either express or implied.\n",
              "// See the License for the specific language governing permissions and\n",
              "// limitations under the License.\n",
              "\n",
              "/**\n",
              " * @fileoverview Helpers for google.colab Python module.\n",
              " */\n",
              "(function(scope) {\n",
              "function span(text, styleAttributes = {}) {\n",
              "  const element = document.createElement('span');\n",
              "  element.textContent = text;\n",
              "  for (const key of Object.keys(styleAttributes)) {\n",
              "    element.style[key] = styleAttributes[key];\n",
              "  }\n",
              "  return element;\n",
              "}\n",
              "\n",
              "// Max number of bytes which will be uploaded at a time.\n",
              "const MAX_PAYLOAD_SIZE = 100 * 1024;\n",
              "\n",
              "function _uploadFiles(inputId, outputId) {\n",
              "  const steps = uploadFilesStep(inputId, outputId);\n",
              "  const outputElement = document.getElementById(outputId);\n",
              "  // Cache steps on the outputElement to make it available for the next call\n",
              "  // to uploadFilesContinue from Python.\n",
              "  outputElement.steps = steps;\n",
              "\n",
              "  return _uploadFilesContinue(outputId);\n",
              "}\n",
              "\n",
              "// This is roughly an async generator (not supported in the browser yet),\n",
              "// where there are multiple asynchronous steps and the Python side is going\n",
              "// to poll for completion of each step.\n",
              "// This uses a Promise to block the python side on completion of each step,\n",
              "// then passes the result of the previous step as the input to the next step.\n",
              "function _uploadFilesContinue(outputId) {\n",
              "  const outputElement = document.getElementById(outputId);\n",
              "  const steps = outputElement.steps;\n",
              "\n",
              "  const next = steps.next(outputElement.lastPromiseValue);\n",
              "  return Promise.resolve(next.value.promise).then((value) => {\n",
              "    // Cache the last promise value to make it available to the next\n",
              "    // step of the generator.\n",
              "    outputElement.lastPromiseValue = value;\n",
              "    return next.value.response;\n",
              "  });\n",
              "}\n",
              "\n",
              "/**\n",
              " * Generator function which is called between each async step of the upload\n",
              " * process.\n",
              " * @param {string} inputId Element ID of the input file picker element.\n",
              " * @param {string} outputId Element ID of the output display.\n",
              " * @return {!Iterable<!Object>} Iterable of next steps.\n",
              " */\n",
              "function* uploadFilesStep(inputId, outputId) {\n",
              "  const inputElement = document.getElementById(inputId);\n",
              "  inputElement.disabled = false;\n",
              "\n",
              "  const outputElement = document.getElementById(outputId);\n",
              "  outputElement.innerHTML = '';\n",
              "\n",
              "  const pickedPromise = new Promise((resolve) => {\n",
              "    inputElement.addEventListener('change', (e) => {\n",
              "      resolve(e.target.files);\n",
              "    });\n",
              "  });\n",
              "\n",
              "  const cancel = document.createElement('button');\n",
              "  inputElement.parentElement.appendChild(cancel);\n",
              "  cancel.textContent = 'Cancel upload';\n",
              "  const cancelPromise = new Promise((resolve) => {\n",
              "    cancel.onclick = () => {\n",
              "      resolve(null);\n",
              "    };\n",
              "  });\n",
              "\n",
              "  // Wait for the user to pick the files.\n",
              "  const files = yield {\n",
              "    promise: Promise.race([pickedPromise, cancelPromise]),\n",
              "    response: {\n",
              "      action: 'starting',\n",
              "    }\n",
              "  };\n",
              "\n",
              "  cancel.remove();\n",
              "\n",
              "  // Disable the input element since further picks are not allowed.\n",
              "  inputElement.disabled = true;\n",
              "\n",
              "  if (!files) {\n",
              "    return {\n",
              "      response: {\n",
              "        action: 'complete',\n",
              "      }\n",
              "    };\n",
              "  }\n",
              "\n",
              "  for (const file of files) {\n",
              "    const li = document.createElement('li');\n",
              "    li.append(span(file.name, {fontWeight: 'bold'}));\n",
              "    li.append(span(\n",
              "        `(${file.type || 'n/a'}) - ${file.size} bytes, ` +\n",
              "        `last modified: ${\n",
              "            file.lastModifiedDate ? file.lastModifiedDate.toLocaleDateString() :\n",
              "                                    'n/a'} - `));\n",
              "    const percent = span('0% done');\n",
              "    li.appendChild(percent);\n",
              "\n",
              "    outputElement.appendChild(li);\n",
              "\n",
              "    const fileDataPromise = new Promise((resolve) => {\n",
              "      const reader = new FileReader();\n",
              "      reader.onload = (e) => {\n",
              "        resolve(e.target.result);\n",
              "      };\n",
              "      reader.readAsArrayBuffer(file);\n",
              "    });\n",
              "    // Wait for the data to be ready.\n",
              "    let fileData = yield {\n",
              "      promise: fileDataPromise,\n",
              "      response: {\n",
              "        action: 'continue',\n",
              "      }\n",
              "    };\n",
              "\n",
              "    // Use a chunked sending to avoid message size limits. See b/62115660.\n",
              "    let position = 0;\n",
              "    do {\n",
              "      const length = Math.min(fileData.byteLength - position, MAX_PAYLOAD_SIZE);\n",
              "      const chunk = new Uint8Array(fileData, position, length);\n",
              "      position += length;\n",
              "\n",
              "      const base64 = btoa(String.fromCharCode.apply(null, chunk));\n",
              "      yield {\n",
              "        response: {\n",
              "          action: 'append',\n",
              "          file: file.name,\n",
              "          data: base64,\n",
              "        },\n",
              "      };\n",
              "\n",
              "      let percentDone = fileData.byteLength === 0 ?\n",
              "          100 :\n",
              "          Math.round((position / fileData.byteLength) * 100);\n",
              "      percent.textContent = `${percentDone}% done`;\n",
              "\n",
              "    } while (position < fileData.byteLength);\n",
              "  }\n",
              "\n",
              "  // All done.\n",
              "  yield {\n",
              "    response: {\n",
              "      action: 'complete',\n",
              "    }\n",
              "  };\n",
              "}\n",
              "\n",
              "scope.google = scope.google || {};\n",
              "scope.google.colab = scope.google.colab || {};\n",
              "scope.google.colab._files = {\n",
              "  _uploadFiles,\n",
              "  _uploadFilesContinue,\n",
              "};\n",
              "})(self);\n",
              "</script> "
            ]
          },
          "metadata": {}
        },
        {
          "output_type": "stream",
          "name": "stdout",
          "text": [
            "Saving .env.txt to .env.txt\n"
          ]
        },
        {
          "output_type": "stream",
          "name": "stderr",
          "text": [
            "INFO:     Started server process [625]\n",
            "INFO:     Waiting for application startup.\n",
            "INFO:     Application startup complete.\n",
            "INFO:     Uvicorn running on http://0.0.0.0:8000 (Press CTRL+C to quit)\n"
          ]
        },
        {
          "output_type": "stream",
          "name": "stdout",
          "text": [
            "🚀 FastAPI running at: NgrokTunnel: \"https://b660-35-233-131-53.ngrok-free.app\" -> \"http://localhost:8000\"\n",
            "INFO:     110.226.90.233:0 - \"GET /docs HTTP/1.1\" 200 OK\n",
            "INFO:     110.226.90.233:0 - \"GET /openapi.json HTTP/1.1\" 200 OK\n",
            "INFO:     110.226.90.233:0 - \"POST /evaluate HTTP/1.1\" 200 OK\n"
          ]
        }
      ]
    },
    {
      "cell_type": "code",
      "source": [
        "#Access WebPage here: https://b660-35-233-131-53.ngrok-free.app/docs\n"
      ],
      "metadata": {
        "id": "M_3ewsEahb9W"
      },
      "execution_count": null,
      "outputs": []
    },
    {
      "cell_type": "code",
      "source": [],
      "metadata": {
        "id": "4xbHHqRmg82t"
      },
      "execution_count": null,
      "outputs": []
    },
    {
      "cell_type": "code",
      "source": [],
      "metadata": {
        "id": "yvxOPZyNg8zy"
      },
      "execution_count": null,
      "outputs": []
    },
    {
      "cell_type": "code",
      "source": [],
      "metadata": {
        "id": "YoMiVJlVg8wb"
      },
      "execution_count": null,
      "outputs": []
    },
    {
      "cell_type": "code",
      "source": [],
      "metadata": {
        "id": "jgn1lwnUg8uI"
      },
      "execution_count": null,
      "outputs": []
    },
    {
      "cell_type": "code",
      "source": [],
      "metadata": {
        "id": "oTjWdik4g8rz"
      },
      "execution_count": null,
      "outputs": []
    },
    {
      "cell_type": "code",
      "source": [],
      "metadata": {
        "id": "Z4Hque78g8ni"
      },
      "execution_count": null,
      "outputs": []
    },
    {
      "cell_type": "code",
      "source": [],
      "metadata": {
        "id": "jbMumJrag8kt"
      },
      "execution_count": null,
      "outputs": []
    },
    {
      "cell_type": "code",
      "source": [],
      "metadata": {
        "id": "EJSAjYd8g8iQ"
      },
      "execution_count": null,
      "outputs": []
    },
    {
      "cell_type": "code",
      "source": [],
      "metadata": {
        "id": "6W64b9Xwg8e8"
      },
      "execution_count": null,
      "outputs": []
    },
    {
      "cell_type": "code",
      "source": [],
      "metadata": {
        "id": "fMkK_-2xGAab"
      },
      "execution_count": null,
      "outputs": []
    },
    {
      "cell_type": "code",
      "source": [],
      "metadata": {
        "id": "EVT01zysGAXY"
      },
      "execution_count": null,
      "outputs": []
    }
  ]
}